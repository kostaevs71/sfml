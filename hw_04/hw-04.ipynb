{
 "cells": [
  {
   "cell_type": "code",
   "execution_count": 355,
   "metadata": {},
   "outputs": [],
   "source": [
    "import pandas as pd\n",
    "import numpy as np\n",
    "import matplotlib.pyplot as plt\n",
    "\n",
    "%matplotlib inline\n",
    "\n",
    "from sklearn.feature_extraction.text import CountVectorizer\n",
    "from sklearn.metrics.pairwise import cosine_similarity\n",
    "\n",
    "from bs4 import BeautifulSoup # Превращалка html в текст.\n",
    "import re # Регулярные выражения.\n",
    "\n",
    "from IPython.display import clear_output\n",
    "\n",
    "import math # Корень квадратный.\n",
    "\n",
    "import csv\n"
   ]
  },
  {
   "cell_type": "code",
   "execution_count": 356,
   "metadata": {
    "collapsed": true
   },
   "outputs": [],
   "source": [
    "df_train = pd.read_csv('train.csv', sep='\\t') #, encoding='utf-8'"
   ]
  },
  {
   "cell_type": "code",
   "execution_count": 357,
   "metadata": {
    "collapsed": true
   },
   "outputs": [],
   "source": [
    "df_train.to_csv('train_zap.csv', sep = ';', index=False, encoding='UTF-8') # , encoding='utf-8'"
   ]
  },
  {
   "cell_type": "code",
   "execution_count": 358,
   "metadata": {},
   "outputs": [
    {
     "data": {
      "text/html": [
       "<div>\n",
       "<style scoped>\n",
       "    .dataframe tbody tr th:only-of-type {\n",
       "        vertical-align: middle;\n",
       "    }\n",
       "\n",
       "    .dataframe tbody tr th {\n",
       "        vertical-align: top;\n",
       "    }\n",
       "\n",
       "    .dataframe thead th {\n",
       "        text-align: right;\n",
       "    }\n",
       "</style>\n",
       "<table border=\"1\" class=\"dataframe\">\n",
       "  <thead>\n",
       "    <tr style=\"text-align: right;\">\n",
       "      <th></th>\n",
       "      <th>id</th>\n",
       "      <th>name</th>\n",
       "      <th>description</th>\n",
       "      <th>target</th>\n",
       "    </tr>\n",
       "  </thead>\n",
       "  <tbody>\n",
       "    <tr>\n",
       "      <th>0</th>\n",
       "      <td>0</td>\n",
       "      <td>Заведующий отделом/секцией в магазин YORK (Уру...</td>\n",
       "      <td>&lt;p&gt;&lt;strong&gt;В НОВЫЙ МАГАЗИН YORK (хозтовары) пр...</td>\n",
       "      <td>1</td>\n",
       "    </tr>\n",
       "    <tr>\n",
       "      <th>1</th>\n",
       "      <td>1</td>\n",
       "      <td>Наладчик станков и манипуляторов с ПУ</td>\n",
       "      <td>Обязанности:работа на токарных станках с ЧПУ T...</td>\n",
       "      <td>0</td>\n",
       "    </tr>\n",
       "    <tr>\n",
       "      <th>2</th>\n",
       "      <td>2</td>\n",
       "      <td>Разработчик С++ (Криптограф)</td>\n",
       "      <td>&lt;strong&gt;Требования:&lt;/strong&gt; &lt;ul&gt; &lt;li&gt;Опыт про...</td>\n",
       "      <td>0</td>\n",
       "    </tr>\n",
       "    <tr>\n",
       "      <th>3</th>\n",
       "      <td>3</td>\n",
       "      <td>Фрезеровщик</td>\n",
       "      <td>&lt;p&gt;Условия:&lt;/p&gt; &lt;ul&gt; &lt;li&gt;На работу вахтовым ме...</td>\n",
       "      <td>0</td>\n",
       "    </tr>\n",
       "    <tr>\n",
       "      <th>4</th>\n",
       "      <td>4</td>\n",
       "      <td>Мерчендайзер/продавец-консультант</td>\n",
       "      <td>&lt;p&gt;&lt;strong&gt;Компания Палладиум Стандарт - призн...</td>\n",
       "      <td>1</td>\n",
       "    </tr>\n",
       "  </tbody>\n",
       "</table>\n",
       "</div>"
      ],
      "text/plain": [
       "   id                                               name  \\\n",
       "0   0  Заведующий отделом/секцией в магазин YORK (Уру...   \n",
       "1   1              Наладчик станков и манипуляторов с ПУ   \n",
       "2   2                       Разработчик С++ (Криптограф)   \n",
       "3   3                                        Фрезеровщик   \n",
       "4   4                  Мерчендайзер/продавец-консультант   \n",
       "\n",
       "                                         description  target  \n",
       "0  <p><strong>В НОВЫЙ МАГАЗИН YORK (хозтовары) пр...       1  \n",
       "1  Обязанности:работа на токарных станках с ЧПУ T...       0  \n",
       "2  <strong>Требования:</strong> <ul> <li>Опыт про...       0  \n",
       "3  <p>Условия:</p> <ul> <li>На работу вахтовым ме...       0  \n",
       "4  <p><strong>Компания Палладиум Стандарт - призн...       1  "
      ]
     },
     "execution_count": 358,
     "metadata": {},
     "output_type": "execute_result"
    }
   ],
   "source": [
    "df_train.head(5)"
   ]
  },
  {
   "cell_type": "code",
   "execution_count": 359,
   "metadata": {},
   "outputs": [
    {
     "data": {
      "text/html": [
       "<div>\n",
       "<style scoped>\n",
       "    .dataframe tbody tr th:only-of-type {\n",
       "        vertical-align: middle;\n",
       "    }\n",
       "\n",
       "    .dataframe tbody tr th {\n",
       "        vertical-align: top;\n",
       "    }\n",
       "\n",
       "    .dataframe thead th {\n",
       "        text-align: right;\n",
       "    }\n",
       "</style>\n",
       "<table border=\"1\" class=\"dataframe\">\n",
       "  <thead>\n",
       "    <tr style=\"text-align: right;\">\n",
       "      <th></th>\n",
       "      <th>id</th>\n",
       "      <th>name</th>\n",
       "      <th>description</th>\n",
       "      <th>target</th>\n",
       "    </tr>\n",
       "  </thead>\n",
       "  <tbody>\n",
       "    <tr>\n",
       "      <th>0</th>\n",
       "      <td>0</td>\n",
       "      <td>Заведующий отделом/секцией в магазин YORK (Уру...</td>\n",
       "      <td>&lt;p&gt;&lt;strong&gt;В НОВЫЙ МАГАЗИН YORK (хозтовары) пр...</td>\n",
       "      <td>1</td>\n",
       "    </tr>\n",
       "    <tr>\n",
       "      <th>4</th>\n",
       "      <td>4</td>\n",
       "      <td>Мерчендайзер/продавец-консультант</td>\n",
       "      <td>&lt;p&gt;&lt;strong&gt;Компания Палладиум Стандарт - призн...</td>\n",
       "      <td>1</td>\n",
       "    </tr>\n",
       "    <tr>\n",
       "      <th>6</th>\n",
       "      <td>6</td>\n",
       "      <td>Торговый представитель</td>\n",
       "      <td>&lt;em&gt;&lt;strong&gt;НА СТАБИЛЬНОЕ И РАСПРОСТРАНЕННОЕ Н...</td>\n",
       "      <td>1</td>\n",
       "    </tr>\n",
       "    <tr>\n",
       "      <th>7</th>\n",
       "      <td>7</td>\n",
       "      <td>Торговый представитель</td>\n",
       "      <td>&lt;strong&gt;Обязанности:&lt;/strong&gt; &lt;ul&gt; &lt;li&gt;Функцио...</td>\n",
       "      <td>1</td>\n",
       "    </tr>\n",
       "    <tr>\n",
       "      <th>8</th>\n",
       "      <td>8</td>\n",
       "      <td>Менеджер по продажам</td>\n",
       "      <td>&lt;p&gt;&lt;strong&gt;Обязанности:&lt;/strong&gt;&lt;/p&gt; &lt;ul&gt; &lt;li&gt;...</td>\n",
       "      <td>1</td>\n",
       "    </tr>\n",
       "  </tbody>\n",
       "</table>\n",
       "</div>"
      ],
      "text/plain": [
       "   id                                               name  \\\n",
       "0   0  Заведующий отделом/секцией в магазин YORK (Уру...   \n",
       "4   4                  Мерчендайзер/продавец-консультант   \n",
       "6   6                             Торговый представитель   \n",
       "7   7                             Торговый представитель   \n",
       "8   8                               Менеджер по продажам   \n",
       "\n",
       "                                         description  target  \n",
       "0  <p><strong>В НОВЫЙ МАГАЗИН YORK (хозтовары) пр...       1  \n",
       "4  <p><strong>Компания Палладиум Стандарт - призн...       1  \n",
       "6  <em><strong>НА СТАБИЛЬНОЕ И РАСПРОСТРАНЕННОЕ Н...       1  \n",
       "7  <strong>Обязанности:</strong> <ul> <li>Функцио...       1  \n",
       "8  <p><strong>Обязанности:</strong></p> <ul> <li>...       1  "
      ]
     },
     "execution_count": 359,
     "metadata": {},
     "output_type": "execute_result"
    }
   ],
   "source": [
    "df_train[df_train['target'].isin([1])].head()"
   ]
  },
  {
   "cell_type": "code",
   "execution_count": 360,
   "metadata": {},
   "outputs": [],
   "source": [
    "def preproc_train_data(df_input):\n",
    "    ## Your Code Here\n",
    "    df_output = df_input[df_input['target'].isin([1])].copy()    \n",
    "    \n",
    "    df_output['description'] = df_output['description'].map(lambda stt: BeautifulSoup(stt, \"html5lib\").get_text())\n",
    "#    df_output['target'] = pd.DataFrame\n",
    "#    print(df_output.shape)\n",
    "\n",
    "    return df_output"
   ]
  },
  {
   "cell_type": "code",
   "execution_count": 361,
   "metadata": {},
   "outputs": [
    {
     "name": "stdout",
     "output_type": "stream",
     "text": [
      "(93564, 4)\n"
     ]
    }
   ],
   "source": [
    "#df_train_preproc = preproc_train_data(df_train.head(1000))\n",
    "df_train_preproc = preproc_train_data(df_train)\n",
    "print(df_train_preproc.shape)"
   ]
  },
  {
   "cell_type": "code",
   "execution_count": 362,
   "metadata": {},
   "outputs": [],
   "source": [
    "# При помощи ngram_range=(1,2) говорим, что хотим извлекать слова и пары слов.\n",
    "# token_pattern показывает регулярное выражение, которому должны соответствовать слова.\n",
    "counter12=CountVectorizer(ngram_range=(1,2), token_pattern=r'[А-Яа-яЁё]+\\-[А-Яа-яЁё]+|[А-Яа-яЁё]+')\n",
    "\n",
    "# Проводим анализ, получаем список найденных n-грамм.\n",
    "analyze = counter12.build_analyzer()\n",
    "#print(analyze(df_train_preproc.iloc[:,1:-1].to_string()))\n",
    "\n",
    "# Считаем частоты, видим, что слова не приводились к начальной форме.\n",
    "res=counter12.fit_transform([df_train_preproc.iloc[:,1:-1].to_string()])\n",
    "\n",
    "#print(counter12.vocabulary_.get('менеджер'))\n",
    "#print(counter12.vocabulary_.get('продавец'))\n",
    "#print(counter12.vocabulary_.get('кассир'))\n",
    "#print(counter12.vocabulary_.get('продавец-кассир'))\n",
    "\n",
    "# prepare dictionary \n",
    "\n",
    "d = {w:res[0][0,counter12.vocabulary_[w]] for w in counter12.vocabulary_ if res[0][0,counter12.vocabulary_[w]]>1}\n",
    "\n",
    "# сохраним словарь в csv чтобы потом не считать\n",
    "\n",
    "\n",
    "with open('dict_train.csv', 'w') as outfile:\n",
    "    writer = csv.writer(outfile)\n",
    "    for key, val in d.items():\n",
    "        writer.writerow([key, val])\n",
    "        \n"
   ]
  },
  {
   "cell_type": "code",
   "execution_count": 363,
   "metadata": {
    "collapsed": true
   },
   "outputs": [],
   "source": [
    "def cosineSimilarity(a, b):\n",
    "    if len(a.keys())==0 or len(b.keys())==0:\n",
    "        return 0\n",
    "    sumab=sum([a[na]*b[na] for na in a.keys() if na in b.keys()])\n",
    "    suma2=sum([a[na]*a[na] for na in a.keys()])\n",
    "    sumb2=sum([b[nb]*b[nb] for nb in b.keys()])\n",
    "    return sumab/math.sqrt(suma2*sumb2)"
   ]
  },
  {
   "cell_type": "code",
   "execution_count": 364,
   "metadata": {},
   "outputs": [],
   "source": [
    "# print({w:res[0][0,counter12.vocabulary_[w]] for w in counter12.vocabulary_ if res[0][0,counter12.vocabulary_[w]]>1})\n"
   ]
  },
  {
   "cell_type": "code",
   "execution_count": 365,
   "metadata": {},
   "outputs": [
    {
     "name": "stdout",
     "output_type": "stream",
     "text": [
      "0.280674949982\n"
     ]
    }
   ],
   "source": [
    "print(cosineSimilarity(d, {'помощник': 1, 'персональный':1, 'менеджер':2}))"
   ]
  },
  {
   "cell_type": "code",
   "execution_count": null,
   "metadata": {
    "collapsed": true
   },
   "outputs": [],
   "source": []
  },
  {
   "cell_type": "code",
   "execution_count": null,
   "metadata": {
    "collapsed": true
   },
   "outputs": [],
   "source": []
  },
  {
   "cell_type": "code",
   "execution_count": null,
   "metadata": {
    "collapsed": true
   },
   "outputs": [],
   "source": []
  },
  {
   "cell_type": "code",
   "execution_count": 366,
   "metadata": {},
   "outputs": [],
   "source": [
    "def make_dict(ptext):\n",
    "#    print('make_dict',ptext)\n",
    "    # При помощи ngram_range=(1,2) говорим, что хотим извлекать слова и пары слов.\n",
    "    # token_pattern показывает регулярное выражение, которому должны соответствовать слова.\n",
    "    c12=CountVectorizer(ngram_range=(1,2), token_pattern=r'[А-Яа-яЁё]+\\-[А-Яа-яЁё]+|[А-Яа-яЁё]+',min_df=1)\n",
    "    c12=CountVectorizer(ngram_range=(1,2),min_df=1)\n",
    "\n",
    "    # Проводим анализ, получаем список найденных n-грамм.\n",
    "    an1 = c12.build_analyzer()\n",
    "#    print(an1(df.iloc[:,1:2].to_string()))\n",
    "\n",
    "    # Считаем частоты, видим, что слова не приводились к начальной форме.\n",
    "    res12=c12.fit_transform([ptext])\n",
    "    \n",
    "#    print(res12)\n",
    "\n",
    "    # prepare dictionary \n",
    "\n",
    "    di = {w:res12[0][0,c12.vocabulary_[w]] for w in c12.vocabulary_ if res12[0][0,c12.vocabulary_[w]]>0}\n",
    "    \n",
    "    cos = cosineSimilarity(d,di)\n",
    "    ret = 0\n",
    "    # пусть пороговое значение 0,2\n",
    "    if cos >= 0.2:\n",
    "        ret = 1\n",
    "#    print((di))\n",
    "    return ret"
   ]
  },
  {
   "cell_type": "code",
   "execution_count": 367,
   "metadata": {
    "collapsed": true
   },
   "outputs": [],
   "source": [
    "def get_it_simple(pname):\n",
    "    counter=CountVectorizer()\n",
    "    res=counter.fit_transform([pname])\n",
    "    c1 = counter.vocabulary_.get('менеджер')\n",
    "    c2 = counter.vocabulary_.get('продажам')\n",
    "    c3 = counter.vocabulary_.get('магазин')\n",
    "    c4 = counter.vocabulary_.get('торговый')\n",
    "    c5 = counter.vocabulary_.get('продавец')\n",
    "\n",
    "    c1 = 0 if c1 == None else c1\n",
    "    c2 = 0 if c2 == None else c2\n",
    "    c3 = 0 if c3 == None else c3\n",
    "    c4 = 0 if c4 == None else c4\n",
    "    c5 = 0 if c5 == None else c5\n",
    "\n",
    "#    print(c1,c2,c3,c4,c5)\n",
    "    \n",
    "    if c1 > 0:\n",
    "        ret = 1\n",
    "    elif c2 > 0:\n",
    "        ret = 1\n",
    "    elif c3 > 0:\n",
    "        ret = 1\n",
    "    elif c4 > 0:\n",
    "        ret = 1\n",
    "    elif c5 > 0:\n",
    "        ret = 1\n",
    "    else:\n",
    "        ret = 0\n",
    "    return ret;\n",
    "\n"
   ]
  },
  {
   "cell_type": "code",
   "execution_count": 368,
   "metadata": {},
   "outputs": [],
   "source": [
    "def preproc_test_data(df_input):\n",
    "    ## Your Code Here\n",
    "    df_output = df_input.copy()    \n",
    "    df_output['description'] = df_output['description'].map(lambda stt: BeautifulSoup(stt, \"html5lib\").get_text())\n",
    "    df_output['target'] = pd.DataFrame\n",
    "\n",
    "#    df_output['di'] = df_output['description'].map(lambda stt: make_dict(stt, \"html5lib\").get_text())  (df_input)\n",
    "  \n",
    "    total = df_output.shape[0]\n",
    "    cur_proc = 0\n",
    "    a=1\n",
    "    for i in df_output.T:\n",
    "#        print((df_output.iloc[a-1:a,1:-1]))\n",
    "#        print((df_output.iloc[a-1:a,-1:]))\n",
    "#        print(make_dict(df_output.iloc[a-1:a,1:-1].to_string()))\n",
    "        df_output.iloc[a-1:a,-1:] = [make_dict(df_output.iloc[a-1:a,1:-1].to_string())]\n",
    "        if a == (total//100)*(cur_proc+1):\n",
    "            clear_output()\n",
    "            print(cur_proc, '% ready')\n",
    "            cur_proc += 1\n",
    "        a += 1\n",
    "    clear_output()\n",
    "    print(cur_proc, '% ready')\n",
    "\n",
    "    #   print('a=',a)\n",
    "\n",
    "    return df_output"
   ]
  },
  {
   "cell_type": "code",
   "execution_count": 369,
   "metadata": {
    "collapsed": true
   },
   "outputs": [],
   "source": [
    "df_test = pd.read_csv('test.csv', sep='\\t')"
   ]
  },
  {
   "cell_type": "code",
   "execution_count": null,
   "metadata": {
    "collapsed": true
   },
   "outputs": [],
   "source": [
    "#df1 = df_test.drop(\"description\", axis=1).head(5)\n",
    "#print(df_test)\n",
    "#print(type(df1.head(5)))\n",
    "#print(df1.head(2))\n",
    "\n",
    "#print(type(df1[\"name\"]))\n",
    "\n",
    "#print(type(df1.iloc(1)))\n",
    "\n",
    "#print(df1.iloc[0:,1:])\n",
    "#print (type(df1.iloc[0:,1:].to_string()))"
   ]
  },
  {
   "cell_type": "code",
   "execution_count": null,
   "metadata": {},
   "outputs": [],
   "source": [
    "#df_test_preproc = preproc_test_data(df_test.head(300))\n",
    "df_test_preproc = preproc_test_data(df_test)\n",
    "df_test_ready = pd.DataFrame(columns=['id','target'])\n",
    "df_test_ready = df_test_preproc.iloc[0:,[0,-1]]\n",
    "#df_test_ready"
   ]
  },
  {
   "cell_type": "code",
   "execution_count": null,
   "metadata": {
    "collapsed": true
   },
   "outputs": [],
   "source": [
    "df_test_ready.to_csv('r3.csv', sep = ',', index=False)"
   ]
  },
  {
   "cell_type": "code",
   "execution_count": null,
   "metadata": {
    "collapsed": true
   },
   "outputs": [],
   "source": []
  }
 ],
 "metadata": {
  "kernelspec": {
   "display_name": "Python 3",
   "language": "python",
   "name": "python3"
  },
  "language_info": {
   "codemirror_mode": {
    "name": "ipython",
    "version": 3
   },
   "file_extension": ".py",
   "mimetype": "text/x-python",
   "name": "python",
   "nbconvert_exporter": "python",
   "pygments_lexer": "ipython3",
   "version": "3.6.3"
  }
 },
 "nbformat": 4,
 "nbformat_minor": 2
}
